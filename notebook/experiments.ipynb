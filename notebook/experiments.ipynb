{
 "cells": [
  {
   "cell_type": "code",
   "execution_count": null,
   "id": "dcd994c7",
   "metadata": {},
   "outputs": [],
   "source": [
    "import os\n",
    "import sys\n",
    "class TradingBotException(Exception):\n",
    "    def __init__(self, error_message,error_details:sys):\n",
    "        self.error_message=error_message\n",
    "        _,_,exc_tb=error_details.exc_info() #trace back\n",
    "\n",
    "        self.lineno=exc_tb.tb_lineno\n",
    "        self.file_name=exc_tb.tb_frame.f_code.co_filename\n",
    "\n",
    "    def __str__(self):\n",
    "        return \"Error occured in python script name [{0}] line number [{1}] error message [{2}]\".format(\n",
    "            self.file_name,self.lineno,str(self.error_message)\n",
    "        )\n",
    "    "
   ]
  },
  {
   "cell_type": "code",
   "execution_count": 3,
   "id": "b9925f01",
   "metadata": {},
   "outputs": [
    {
     "ename": "TradingBotException",
     "evalue": "Error occured in python script name [C:\\Users\\ADMIN\\AppData\\Local\\Temp\\ipykernel_18760\\2316974032.py] line number [3] error message [division by zero]",
     "output_type": "error",
     "traceback": [
      "\u001b[1;31m---------------------------------------------------------------------------\u001b[0m",
      "\u001b[1;31mZeroDivisionError\u001b[0m                         Traceback (most recent call last)",
      "Cell \u001b[1;32mIn[3], line 3\u001b[0m\n\u001b[0;32m      2\u001b[0m \u001b[38;5;28;01mtry\u001b[39;00m:\n\u001b[1;32m----> 3\u001b[0m     a\u001b[38;5;241m=\u001b[39m\u001b[38;5;241;43m10\u001b[39;49m\u001b[38;5;241;43m/\u001b[39;49m\u001b[38;5;241;43m0\u001b[39;49m\n\u001b[0;32m      5\u001b[0m \u001b[38;5;28;01mexcept\u001b[39;00m \u001b[38;5;167;01mException\u001b[39;00m \u001b[38;5;28;01mas\u001b[39;00m e:\n",
      "\u001b[1;31mZeroDivisionError\u001b[0m: division by zero",
      "\nDuring handling of the above exception, another exception occurred:\n",
      "\u001b[1;31mTradingBotException\u001b[0m                       Traceback (most recent call last)",
      "Cell \u001b[1;32mIn[3], line 6\u001b[0m\n\u001b[0;32m      3\u001b[0m     a\u001b[38;5;241m=\u001b[39m\u001b[38;5;241m10\u001b[39m\u001b[38;5;241m/\u001b[39m\u001b[38;5;241m0\u001b[39m\n\u001b[0;32m      5\u001b[0m \u001b[38;5;28;01mexcept\u001b[39;00m \u001b[38;5;167;01mException\u001b[39;00m \u001b[38;5;28;01mas\u001b[39;00m e:\n\u001b[1;32m----> 6\u001b[0m     \u001b[38;5;28;01mraise\u001b[39;00m TradingBotException(e,sys)\n",
      "\u001b[1;31mTradingBotException\u001b[0m: Error occured in python script name [C:\\Users\\ADMIN\\AppData\\Local\\Temp\\ipykernel_18760\\2316974032.py] line number [3] error message [division by zero]"
     ]
    }
   ],
   "source": [
    "if __name__==\"__main__\":\n",
    "    try:\n",
    "        a=10/0\n",
    "\n",
    "    except Exception as e:\n",
    "        raise TradingBotException(e,sys)"
   ]
  },
  {
   "cell_type": "code",
   "execution_count": 12,
   "id": "e50b9485",
   "metadata": {},
   "outputs": [],
   "source": [
    "import os\n",
    "import sys\n",
    "class TradingBotException(Exception):\n",
    "    def __init__(self):\n",
    "        print(\"this message from init\")\n",
    "\n",
    "    def __str__(self):\n",
    "        print(\"this messge from str\")\n",
    "        return \"\"\n",
    "\n",
    "    def __repr__(self):\n",
    "        print(\"this message from repr\")\n",
    "        return \"\"\n",
    "    "
   ]
  },
  {
   "cell_type": "code",
   "execution_count": 13,
   "id": "94857dcb",
   "metadata": {},
   "outputs": [
    {
     "name": "stdout",
     "output_type": "stream",
     "text": [
      "this message from init\n"
     ]
    }
   ],
   "source": [
    "obj=TradingBotException()"
   ]
  },
  {
   "cell_type": "code",
   "execution_count": 14,
   "id": "481fba40",
   "metadata": {},
   "outputs": [
    {
     "name": "stdout",
     "output_type": "stream",
     "text": [
      "this messge from str\n",
      "\n"
     ]
    }
   ],
   "source": [
    "print(obj)"
   ]
  },
  {
   "cell_type": "code",
   "execution_count": 15,
   "id": "3e27e69e",
   "metadata": {},
   "outputs": [
    {
     "name": "stdout",
     "output_type": "stream",
     "text": [
      "this message from repr\n"
     ]
    },
    {
     "data": {
      "text/plain": []
     },
     "execution_count": 15,
     "metadata": {},
     "output_type": "execute_result"
    }
   ],
   "source": [
    "obj"
   ]
  },
  {
   "cell_type": "code",
   "execution_count": 16,
   "id": "2ac22317",
   "metadata": {},
   "outputs": [
    {
     "name": "stdout",
     "output_type": "stream",
     "text": [
      "this messge from str\n",
      "\n"
     ]
    }
   ],
   "source": [
    "print(obj)"
   ]
  },
  {
   "cell_type": "code",
   "execution_count": 18,
   "id": "b7064298",
   "metadata": {},
   "outputs": [],
   "source": [
    "import logging\n",
    "import os\n",
    "\n",
    "from datetime import datetime\n",
    "\n",
    "LOG_FILE = f\"{datetime.now().strftime('%m_%d_%Y_%H_%M_%S')}.log\"\n",
    "\n",
    "logs_path=os.path.join(os.getcwd(),\"logs\",LOG_FILE)\n",
    "os.makedirs(logs_path,exist_ok=True)\n",
    "LOG_FILE_PATH = os.path.join(logs_path, LOG_FILE)\n",
    "\n",
    "logging.basicConfig(\n",
    "    filename=LOG_FILE_PATH,\n",
    "    format=\"[ %(asctime)s] %(lineno)d %(name)s-%(levelname)s-%(message)s\",\n",
    "    level=logging.INFO,\n",
    ")"
   ]
  },
  {
   "cell_type": "code",
   "execution_count": 20,
   "id": "425970cd",
   "metadata": {},
   "outputs": [],
   "source": [
    "logging.info(\"Logged 1 comment\")"
   ]
  },
  {
   "cell_type": "code",
   "execution_count": null,
   "id": "fb091bab",
   "metadata": {},
   "outputs": [],
   "source": []
  },
  {
   "cell_type": "code",
   "execution_count": null,
   "id": "b41fd345",
   "metadata": {},
   "outputs": [
    {
     "name": "stdout",
     "output_type": "stream",
     "text": [
      "Name: .gitignore, Type: file, URL: https://github.com/Ahamad-ai/CUSTOMER_SUPPORT_SYSTEM/blob/main/.gitignore\n",
      "Name: README.md, Type: file, URL: https://github.com/Ahamad-ai/CUSTOMER_SUPPORT_SYSTEM/blob/main/README.md\n",
      "Name: __pycache__, Type: dir, URL: https://github.com/Ahamad-ai/CUSTOMER_SUPPORT_SYSTEM/tree/main/__pycache__\n",
      "Name: config, Type: dir, URL: https://github.com/Ahamad-ai/CUSTOMER_SUPPORT_SYSTEM/tree/main/config\n",
      "Name: data, Type: dir, URL: https://github.com/Ahamad-ai/CUSTOMER_SUPPORT_SYSTEM/tree/main/data\n",
      "Name: data_collection_pipeline, Type: dir, URL: https://github.com/Ahamad-ai/CUSTOMER_SUPPORT_SYSTEM/tree/main/data_collection_pipeline\n",
      "Name: data_ingestion, Type: dir, URL: https://github.com/Ahamad-ai/CUSTOMER_SUPPORT_SYSTEM/tree/main/data_ingestion\n",
      "Name: e_commerce_bot.egg-info, Type: dir, URL: https://github.com/Ahamad-ai/CUSTOMER_SUPPORT_SYSTEM/tree/main/e_commerce_bot.egg-info\n",
      "Name: main.py, Type: file, URL: https://github.com/Ahamad-ai/CUSTOMER_SUPPORT_SYSTEM/blob/main/main.py\n",
      "Name: notebook, Type: dir, URL: https://github.com/Ahamad-ai/CUSTOMER_SUPPORT_SYSTEM/tree/main/notebook\n",
      "Name: prompt_library, Type: dir, URL: https://github.com/Ahamad-ai/CUSTOMER_SUPPORT_SYSTEM/tree/main/prompt_library\n",
      "Name: requirements.txt, Type: file, URL: https://github.com/Ahamad-ai/CUSTOMER_SUPPORT_SYSTEM/blob/main/requirements.txt\n",
      "Name: retriever, Type: dir, URL: https://github.com/Ahamad-ai/CUSTOMER_SUPPORT_SYSTEM/tree/main/retriever\n",
      "Name: setup.py, Type: file, URL: https://github.com/Ahamad-ai/CUSTOMER_SUPPORT_SYSTEM/blob/main/setup.py\n",
      "Name: static, Type: dir, URL: https://github.com/Ahamad-ai/CUSTOMER_SUPPORT_SYSTEM/tree/main/static\n",
      "Name: templates, Type: dir, URL: https://github.com/Ahamad-ai/CUSTOMER_SUPPORT_SYSTEM/tree/main/templates\n",
      "Name: test.py, Type: file, URL: https://github.com/Ahamad-ai/CUSTOMER_SUPPORT_SYSTEM/blob/main/test.py\n",
      "Name: utils, Type: dir, URL: https://github.com/Ahamad-ai/CUSTOMER_SUPPORT_SYSTEM/tree/main/utils\n"
     ]
    }
   ],
   "source": [
    "import requests\n",
    "\n",
    "# Define GitHub API URL\n",
    "owner = \"Ahamad-ai\"  # Replace with the repository owner\n",
    "repo = \"CUSTOMER_SUPPORT_SYSTEM\"    # Replace with the repository name\n",
    "url = f\"https://api.github.com/repos/{owner}/{repo}/contents\"\n",
    "\n",
    "# Provide your GitHub token (replace with a valid token)\n",
    "github_token = \"\"\n",
    "\n",
    "# Set up headers for authentication\n",
    "headers = {\n",
    "    \"Authorization\": f\"token {github_token}\",\n",
    "    \"Accept\": \"application/vnd.github.v3+json\"\n",
    "}\n",
    "\n",
    "# Make the request\n",
    "response = requests.get(url, headers=headers)\n",
    "\n",
    "# Check for successful response\n",
    "if response.status_code == 200:\n",
    "    repo_contents = response.json()\n",
    "    for file in repo_contents:\n",
    "        print(f\"Name: {file['name']}, Type: {file['type']}, URL: {file['html_url']}\")\n",
    "else:\n",
    "    print(f\"Error: {response.status_code}, Message: {response.json()}\")\n"
   ]
  },
  {
   "cell_type": "code",
   "execution_count": 2,
   "id": "3bd2ebcb",
   "metadata": {},
   "outputs": [
    {
     "name": "stdout",
     "output_type": "stream",
     "text": [
      "Requirement already satisfied: requests in d:\\projects\\agentic-trading-bot\\env\\lib\\site-packages (2.32.3)\n",
      "Collecting tree-sitter\n",
      "  Downloading tree_sitter-0.24.0-cp310-cp310-win_amd64.whl.metadata (10 kB)\n",
      "Requirement already satisfied: charset-normalizer<4,>=2 in d:\\projects\\agentic-trading-bot\\env\\lib\\site-packages (from requests) (3.4.2)\n",
      "Requirement already satisfied: idna<4,>=2.5 in d:\\projects\\agentic-trading-bot\\env\\lib\\site-packages (from requests) (3.10)\n",
      "Requirement already satisfied: urllib3<3,>=1.21.1 in d:\\projects\\agentic-trading-bot\\env\\lib\\site-packages (from requests) (2.4.0)\n",
      "Requirement already satisfied: certifi>=2017.4.17 in d:\\projects\\agentic-trading-bot\\env\\lib\\site-packages (from requests) (2025.4.26)\n",
      "Downloading tree_sitter-0.24.0-cp310-cp310-win_amd64.whl (120 kB)\n",
      "Installing collected packages: tree-sitter\n",
      "Successfully installed tree-sitter-0.24.0\n"
     ]
    }
   ],
   "source": [
    "!pip install requests tree-sitter"
   ]
  },
  {
   "cell_type": "code",
   "execution_count": null,
   "id": "57108b58",
   "metadata": {},
   "outputs": [
    {
     "name": "stdout",
     "output_type": "stream",
     "text": [
      "File: .gitignore, URL: https://raw.githubusercontent.com/Ahamad-ai/CUSTOMER_SUPPORT_SYSTEM/main/.gitignore\n",
      "File: README.md, URL: https://raw.githubusercontent.com/Ahamad-ai/CUSTOMER_SUPPORT_SYSTEM/main/README.md\n",
      "File: main.py, URL: https://raw.githubusercontent.com/Ahamad-ai/CUSTOMER_SUPPORT_SYSTEM/main/main.py\n",
      "File: requirements.txt, URL: https://raw.githubusercontent.com/Ahamad-ai/CUSTOMER_SUPPORT_SYSTEM/main/requirements.txt\n",
      "File: setup.py, URL: https://raw.githubusercontent.com/Ahamad-ai/CUSTOMER_SUPPORT_SYSTEM/main/setup.py\n",
      "File: test.py, URL: https://raw.githubusercontent.com/Ahamad-ai/CUSTOMER_SUPPORT_SYSTEM/main/test.py\n"
     ]
    }
   ],
   "source": [
    "import requests\n",
    "\n",
    "# Define GitHub API URL\n",
    "owner = \"Ahamad-ai\"  # Replace with the repository owner\n",
    "repo = \"CUSTOMER_SUPPORT_SYSTEM\"    # Replace with the repository name\n",
    "url = f\"https://api.github.com/repos/{owner}/{repo}/contents\"\n",
    "\n",
    "# Provide your GitHub token (replace with a valid token)\n",
    "\n",
    "\n",
    "# Headers for authentication\n",
    "headers = {\n",
    "    \"Authorization\": f\"token {github_token}\",\n",
    "    \"Accept\": \"application/vnd.github.v3+json\"\n",
    "}\n",
    "\n",
    "# Fetch repo contents\n",
    "response = requests.get(url, headers=headers)\n",
    "\n",
    "if response.status_code == 200:\n",
    "    repo_contents = response.json()\n",
    "    for file in repo_contents:\n",
    "        if file[\"type\"] == \"file\":\n",
    "            print(f\"File: {file['name']}, URL: {file['download_url']}\")\n",
    "else:\n",
    "    print(f\"Error: {response.status_code}, Message: {response.json()}\")"
   ]
  },
  {
   "cell_type": "code",
   "execution_count": 4,
   "id": "c9847dda",
   "metadata": {},
   "outputs": [
    {
     "ename": "AttributeError",
     "evalue": "type object 'tree_sitter.Language' has no attribute 'build_library'",
     "output_type": "error",
     "traceback": [
      "\u001b[1;31m---------------------------------------------------------------------------\u001b[0m",
      "\u001b[1;31mAttributeError\u001b[0m                            Traceback (most recent call last)",
      "Cell \u001b[1;32mIn[4], line 4\u001b[0m\n\u001b[0;32m      1\u001b[0m \u001b[38;5;28;01mfrom\u001b[39;00m\u001b[38;5;250m \u001b[39m\u001b[38;5;21;01mtree_sitter\u001b[39;00m\u001b[38;5;250m \u001b[39m\u001b[38;5;28;01mimport\u001b[39;00m Language, Parser\n\u001b[0;32m      3\u001b[0m \u001b[38;5;66;03m# Build the language library (run once)\u001b[39;00m\n\u001b[1;32m----> 4\u001b[0m \u001b[43mLanguage\u001b[49m\u001b[38;5;241;43m.\u001b[39;49m\u001b[43mbuild_library\u001b[49m(\n\u001b[0;32m      5\u001b[0m     \u001b[38;5;124m'\u001b[39m\u001b[38;5;124mbuild/my-languages.so\u001b[39m\u001b[38;5;124m'\u001b[39m,\n\u001b[0;32m      6\u001b[0m     [\u001b[38;5;124m'\u001b[39m\u001b[38;5;124mtree-sitter-python\u001b[39m\u001b[38;5;124m'\u001b[39m]  \u001b[38;5;66;03m# Add other languages if needed\u001b[39;00m\n\u001b[0;32m      7\u001b[0m )\n\u001b[0;32m      9\u001b[0m \u001b[38;5;66;03m# Load Python parser\u001b[39;00m\n\u001b[0;32m     10\u001b[0m PY_LANGUAGE \u001b[38;5;241m=\u001b[39m Language(\u001b[38;5;124m'\u001b[39m\u001b[38;5;124mbuild/my-languages.so\u001b[39m\u001b[38;5;124m'\u001b[39m, \u001b[38;5;124m'\u001b[39m\u001b[38;5;124mpython\u001b[39m\u001b[38;5;124m'\u001b[39m)\n",
      "\u001b[1;31mAttributeError\u001b[0m: type object 'tree_sitter.Language' has no attribute 'build_library'"
     ]
    }
   ],
   "source": [
    "from tree_sitter import Language, Parser\n",
    "\n",
    "# Build the language library (run once)\n",
    "Language.build_library(\n",
    "    'build/my-languages.so',\n",
    "    ['tree-sitter-python']  # Add other languages if needed\n",
    ")\n",
    "\n",
    "# Load Python parser\n",
    "PY_LANGUAGE = Language('build/my-languages.so', 'python')\n",
    "parser = Parser()\n",
    "parser.set_language(PY_LANGUAGE)\n",
    "\n",
    "def extract_symbols(code):\n",
    "    \"\"\"Extract function names, classes, and variables from Python code.\"\"\"\n",
    "    tree = parser.parse(code.encode())\n",
    "    root_node = tree.root_node\n",
    "    symbols = []\n",
    "\n",
    "    def traverse(node):\n",
    "        if node.type in ['function_definition', 'class_definition']:\n",
    "            symbols.append(node.child_by_field_name(\"name\").text.decode())\n",
    "        for child in node.children:\n",
    "            traverse(child)\n",
    "\n",
    "    traverse(root_node)\n",
    "    return symbols\n",
    "\n",
    "# Example usage\n",
    "example_code = \"\"\"\n",
    "class MyClass:\n",
    "    def __init__(self):\n",
    "        pass\n",
    "\n",
    "    def my_function(self):\n",
    "        return 'Hello'\n",
    "\"\"\"\n",
    "\n",
    "symbols = extract_symbols(example_code)\n",
    "print(\"Extracted symbols:\", symbols)"
   ]
  },
  {
   "cell_type": "code",
   "execution_count": null,
   "id": "edda195e",
   "metadata": {},
   "outputs": [
    {
     "ename": "TypeError",
     "evalue": "an integer is required",
     "output_type": "error",
     "traceback": [
      "\u001b[1;31m---------------------------------------------------------------------------\u001b[0m",
      "\u001b[1;31mTypeError\u001b[0m                                 Traceback (most recent call last)",
      "Cell \u001b[1;32mIn[6], line 4\u001b[0m\n\u001b[0;32m      1\u001b[0m \u001b[38;5;28;01mfrom\u001b[39;00m\u001b[38;5;250m \u001b[39m\u001b[38;5;21;01mtree_sitter\u001b[39;00m\u001b[38;5;250m \u001b[39m\u001b[38;5;28;01mimport\u001b[39;00m Language, Parser\n\u001b[0;32m      3\u001b[0m \u001b[38;5;66;03m# Path to the compiled parser shared library\u001b[39;00m\n\u001b[1;32m----> 4\u001b[0m PY_LANGUAGE \u001b[38;5;241m=\u001b[39m \u001b[43mLanguage\u001b[49m\u001b[43m(\u001b[49m\u001b[38;5;124;43m'\u001b[39;49m\u001b[38;5;124;43mpython\u001b[39;49m\u001b[38;5;124;43m'\u001b[39;49m\u001b[43m)\u001b[49m\n\u001b[0;32m      6\u001b[0m \u001b[38;5;66;03m# Initialize the parser\u001b[39;00m\n\u001b[0;32m      7\u001b[0m parser \u001b[38;5;241m=\u001b[39m Parser()\n",
      "\u001b[1;31mTypeError\u001b[0m: an integer is required"
     ]
    }
   ],
   "source": [
    "from tree_sitter import Language, Parser\n",
    "\n",
    "# Path to the compiled parser shared library\n",
    "PY_LANGUAGE = Language()\n",
    "\n",
    "# Initialize the parser\n",
    "parser = Parser()\n",
    "parser.set_language(PY_LANGUAGE)\n",
    "\n",
    "# Example Python code\n",
    "code = \"\"\"\n",
    "class TestClass:\n",
    "    def my_function():\n",
    "        return 'Hello, World'\n",
    "\"\"\"\n",
    "\n",
    "tree = parser.parse(code.encode())\n",
    "print(tree.root_node.sexp())  # Show parsed syntax tree"
   ]
  },
  {
   "cell_type": "code",
   "execution_count": 11,
   "id": "83f7beee",
   "metadata": {},
   "outputs": [
    {
     "name": "stdout",
     "output_type": "stream",
     "text": [
      "{'functions': ['__init__', '_load_env_variables', 'load_documents', 'store_in_vector_db', 'run_pipeline'], 'classes': ['DataIngestion'], 'variables': ['required_vars', 'missing_vars', 'documents', 'text_splitter', 'documents', 'pinecone_client', 'index_name', 'index', 'vector_store', 'uuids', 'documents', 'file_ext', 'suffix', 'temp_path', 'loader', 'loader']}\n"
     ]
    }
   ],
   "source": [
    "import ast\n",
    "import os\n",
    "\n",
    "def extract_symbols(file_path):\n",
    "    \"\"\"Extract functions, classes, and variables from a Python file.\"\"\"\n",
    "    with open(file_path, \"r\", encoding=\"utf-8\") as f:\n",
    "        code = f.read()\n",
    "\n",
    "    tree = ast.parse(code)\n",
    "    \n",
    "    symbols = {\"functions\": [], \"classes\": [], \"variables\": []}\n",
    "    \n",
    "    for node in ast.walk(tree):\n",
    "        if isinstance(node, ast.FunctionDef):\n",
    "            symbols[\"functions\"].append(node.name)\n",
    "        elif isinstance(node, ast.ClassDef):\n",
    "            symbols[\"classes\"].append(node.name)\n",
    "        elif isinstance(node, ast.Assign):\n",
    "            for target in node.targets:\n",
    "                if isinstance(target, ast.Name):\n",
    "                    symbols[\"variables\"].append(target.id)\n",
    "\n",
    "    return symbols\n",
    "\n",
    "# Example usage\n",
    "file_path = \"your_python_script.py\"\n",
    "symbols = extract_symbols(\"D:\\\\Projects\\\\agentic-trading-bot\\\\data_ingestion\\\\ingestion_pipeline.py\")\n",
    "print(symbols)"
   ]
  },
  {
   "cell_type": "code",
   "execution_count": null,
   "id": "cc88108e",
   "metadata": {},
   "outputs": [],
   "source": [
    "import clr\n",
    "clr.AddReference(\"Microsoft.CodeAnalysis.CSharp\")\n",
    "\n",
    "from Microsoft.CodeAnalysis.CSharp import CSharpSyntaxTree\n",
    "from Microsoft.CodeAnalysis import SyntaxKind\n",
    "\n",
    "def extract_symbols(csharp_code):\n",
    "    \"\"\"Extract functions, classes, and variables from C# code.\"\"\"\n",
    "    tree = CSharpSyntaxTree.ParseText(csharp_code)\n",
    "    root = tree.GetRoot()\n",
    "\n",
    "    symbols = {\"functions\": [], \"classes\": [], \"variables\": []}\n",
    "\n",
    "    for node in root.DescendantNodes():\n",
    "        if node.Kind() == SyntaxKind.ClassDeclaration:\n",
    "            symbols[\"classes\"].append(node.Identifier.Text)\n",
    "        elif node.Kind() == SyntaxKind.MethodDeclaration:\n",
    "            symbols[\"functions\"].append(node.Identifier.Text)\n",
    "        elif node.Kind() == SyntaxKind.VariableDeclaration:\n",
    "            for variable in node.Variables:\n",
    "                symbols[\"variables\"].append(variable.Identifier.Text)\n",
    "\n",
    "    return symbols\n",
    "\n",
    "# Example C# code\n",
    "csharp_code = \"\"\"\n",
    "public class MyClass {\n",
    "    public int myVariable = 10;\n",
    "    public void MyMethod() {\n",
    "        Console.WriteLine(\"Hello, World!\");\n",
    "    }\n",
    "}\n",
    "\"\"\"\n",
    "\n",
    "symbols = extract_symbols(csharp_code)\n",
    "print(symbols)"
   ]
  }
 ],
 "metadata": {
  "kernelspec": {
   "display_name": "Python 3",
   "language": "python",
   "name": "python3"
  },
  "language_info": {
   "codemirror_mode": {
    "name": "ipython",
    "version": 3
   },
   "file_extension": ".py",
   "mimetype": "text/x-python",
   "name": "python",
   "nbconvert_exporter": "python",
   "pygments_lexer": "ipython3",
   "version": "3.10.16"
  }
 },
 "nbformat": 4,
 "nbformat_minor": 5
}
